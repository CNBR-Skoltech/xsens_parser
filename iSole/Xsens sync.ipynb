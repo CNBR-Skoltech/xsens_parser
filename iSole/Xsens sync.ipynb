{
 "cells": [
  {
   "cell_type": "code",
   "execution_count": 18,
   "id": "013ebff0-28f6-43cb-b47f-f9fed7c5df3a",
   "metadata": {},
   "outputs": [],
   "source": [
    "import serial\n",
    "from datetime import datetime as dt\n",
    "import os\n",
    "import time\n",
    "\n",
    "uart1 = '/dev/cu.usbserial-1440' # arduino port\n",
    "\n"
   ]
  },
  {
   "cell_type": "code",
   "execution_count": 19,
   "id": "ee4145c5-388b-403f-aa77-d67e7d50799b",
   "metadata": {},
   "outputs": [],
   "source": [
    "ser1 = serial.Serial(uart1, baudrate=57600, timeout=0.030);"
   ]
  },
  {
   "cell_type": "code",
   "execution_count": 48,
   "id": "d82c099c-6a0b-4479-9b23-08fd6262c0e9",
   "metadata": {},
   "outputs": [],
   "source": [
    "# stop\n",
    "ser1.write(bytearray([0]));"
   ]
  },
  {
   "cell_type": "code",
   "execution_count": 47,
   "id": "04d0de30-3d6d-421d-aa3e-2062f8d47c84",
   "metadata": {},
   "outputs": [],
   "source": [
    "# start\n",
    "ser1.write(bytearray([1]));"
   ]
  },
  {
   "cell_type": "code",
   "execution_count": 25,
   "id": "e1b09a77-0ef2-46ee-a1b2-af30a6c385b9",
   "metadata": {},
   "outputs": [],
   "source": [
    "# Series\n",
    "for i in range(10):\n",
    "    ser1.write(bytearray([1]));\n",
    "    time.sleep(0.5);\n",
    "    ser1.write(bytearray([0]));\n",
    "    time.sleep(0.5);"
   ]
  },
  {
   "cell_type": "code",
   "execution_count": 28,
   "id": "ffa5aab4-4896-46f3-a0e6-eaeafc5da9b4",
   "metadata": {},
   "outputs": [
    {
     "ename": "KeyboardInterrupt",
     "evalue": "",
     "output_type": "error",
     "traceback": [
      "\u001b[0;31m---------------------------------------------------------------------------\u001b[0m",
      "\u001b[0;31mKeyboardInterrupt\u001b[0m                         Traceback (most recent call last)",
      "Input \u001b[0;32mIn [28]\u001b[0m, in \u001b[0;36m<cell line: 3>\u001b[0;34m()\u001b[0m\n\u001b[1;32m      5\u001b[0m ser1\u001b[38;5;241m.\u001b[39mwrite(\u001b[38;5;28mbytearray\u001b[39m([\u001b[38;5;241m0\u001b[39m]));\n\u001b[1;32m      6\u001b[0m time\u001b[38;5;241m.\u001b[39msleep(\u001b[38;5;241m1\u001b[39m);\n\u001b[0;32m----> 8\u001b[0m \u001b[43mtime\u001b[49m\u001b[38;5;241;43m.\u001b[39;49m\u001b[43msleep\u001b[49m\u001b[43m(\u001b[49m\u001b[38;5;241;43m15\u001b[39;49m\u001b[43m)\u001b[49m;\n\u001b[1;32m     10\u001b[0m ser1\u001b[38;5;241m.\u001b[39mwrite(\u001b[38;5;28mbytearray\u001b[39m([\u001b[38;5;241m1\u001b[39m]));\n\u001b[1;32m     11\u001b[0m time\u001b[38;5;241m.\u001b[39msleep(\u001b[38;5;241m1\u001b[39m);\n",
      "\u001b[0;31mKeyboardInterrupt\u001b[0m: "
     ]
    }
   ],
   "source": [
    "# Repeating Steps\n",
    "while True:\n",
    "\n",
    "    ser1.write(bytearray([1]));\n",
    "    time.sleep(1);\n",
    "    ser1.write(bytearray([0]));\n",
    "    time.sleep(1);\n",
    "\n",
    "    time.sleep(15);\n",
    "\n",
    "    ser1.write(bytearray([1]));\n",
    "    time.sleep(1);\n",
    "    ser1.write(bytearray([0]));\n",
    "    time.sleep(1);\n",
    "\n",
    "    time.sleep(5);"
   ]
  },
  {
   "cell_type": "code",
   "execution_count": null,
   "id": "c9f10454-e9cd-47c8-bcfe-ff5d02084752",
   "metadata": {},
   "outputs": [],
   "source": []
  }
 ],
 "metadata": {
  "kernelspec": {
   "display_name": "Python 3 (ipykernel)",
   "language": "python",
   "name": "python3"
  },
  "language_info": {
   "codemirror_mode": {
    "name": "ipython",
    "version": 3
   },
   "file_extension": ".py",
   "mimetype": "text/x-python",
   "name": "python",
   "nbconvert_exporter": "python",
   "pygments_lexer": "ipython3",
   "version": "3.8.11"
  }
 },
 "nbformat": 4,
 "nbformat_minor": 5
}
